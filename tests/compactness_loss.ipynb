{
  "nbformat": 4,
  "nbformat_minor": 0,
  "metadata": {
    "colab": {
      "provenance": [],
      "authorship_tag": "ABX9TyMkELXiFEzZdLzfq7yhMWqS",
      "include_colab_link": true
    },
    "kernelspec": {
      "name": "python3",
      "display_name": "Python 3"
    },
    "language_info": {
      "name": "python"
    },
    "accelerator": "GPU",
    "gpuClass": "standard"
  },
  "cells": [
    {
      "cell_type": "markdown",
      "metadata": {
        "id": "view-in-github",
        "colab_type": "text"
      },
      "source": [
        "<a href=\"https://colab.research.google.com/github/robertmkjeffrey/anomoly-detection-site-19/blob/main/tests/compactness_loss.ipynb\" target=\"_parent\"><img src=\"https://colab.research.google.com/assets/colab-badge.svg\" alt=\"Open In Colab\"/></a>"
      ]
    },
    {
      "cell_type": "code",
      "execution_count": 1,
      "metadata": {
        "colab": {
          "base_uri": "https://localhost:8080/"
        },
        "id": "IR-b1KptQl3F",
        "outputId": "528c9a72-25c1-4a8e-fede-1fb041213a3c"
      },
      "outputs": [
        {
          "output_type": "stream",
          "name": "stdout",
          "text": [
            "Using cpu device\n"
          ]
        }
      ],
      "source": [
        "import torch\n",
        "import torch.utils.data as torchdata\n",
        "from torchvision import datasets\n",
        "from torchvision.transforms import ToTensor\n",
        "import torch.nn.functional as tf\n",
        "\n",
        "from tqdm import tqdm\n",
        "import numpy as np\n",
        "\n",
        "import matplotlib.pyplot as plt\n",
        "\n",
        "# device = \"cuda\" if torch.cuda.is_available() else \"cpu\"\n",
        "device = \"cpu\"\n",
        "print(f\"Using {device} device\")\n",
        "\n",
        "anomoly_label = 9\n",
        "num_normal_classes = 9"
      ]
    },
    {
      "cell_type": "code",
      "source": [
        "raw_training_data = datasets.FashionMNIST(\n",
        "    root=\"data\",\n",
        "    train=True,\n",
        "    download=True,\n",
        "    transform=ToTensor()\n",
        ")\n",
        "\n",
        "raw_test_data = datasets.FashionMNIST(\n",
        "    root=\"data\",\n",
        "    train=False,\n",
        "    download=True,\n",
        "    transform=ToTensor()\n",
        ")"
      ],
      "metadata": {
        "id": "_Vjj-aC5UeMH"
      },
      "execution_count": 2,
      "outputs": []
    },
    {
      "cell_type": "code",
      "source": [
        "labels_map = {\n",
        "    0: \"T-Shirt\",\n",
        "    1: \"Trouser\",\n",
        "    2: \"Pullover\",\n",
        "    3: \"Dress\",\n",
        "    4: \"Coat\",\n",
        "    5: \"Sandal\",\n",
        "    6: \"Shirt\",\n",
        "    7: \"Sneaker\",\n",
        "    8: \"Bag\",\n",
        "    9: \"Ankle Boot\",\n",
        "}\n",
        "\n",
        "def show_data_sample(dataset):\n",
        "  figure = plt.figure(figsize=(8, 8))\n",
        "  cols, rows = 3, 3\n",
        "  for i in range(1, cols * rows + 1):\n",
        "      sample_idx = torch.randint(len(dataset), size=(1,)).item()\n",
        "      img, label = dataset[sample_idx]\n",
        "      figure.add_subplot(rows, cols, i)\n",
        "      plt.title(labels_map[label])\n",
        "      plt.axis(\"off\")\n",
        "      plt.imshow(img.squeeze(), cmap=\"gray\")\n",
        "  plt.show()\n",
        "\n",
        "def show_data_sample_iter(data_iterable):\n",
        "    show_data_sample(next(iter(data_iterable)))\n",
        "\n",
        "show_data_sample(raw_training_data)"
      ],
      "metadata": {
        "colab": {
          "base_uri": "https://localhost:8080/",
          "height": 482
        },
        "id": "TYMulCWDUyzC",
        "outputId": "38593440-479a-4e3d-f83b-72fd3660bff8"
      },
      "execution_count": 3,
      "outputs": [
        {
          "output_type": "display_data",
          "data": {
            "text/plain": [
              "<Figure size 576x576 with 9 Axes>"
            ],
            "image/png": "[encoded data removed]"
          },
          "metadata": {
            "needs_background": "light"
          }
        }
      ]
    },
    {
      "cell_type": "code",
      "source": [
        "# Define datasets for anomolous and normal data.\n",
        "anomolous_train = raw_training_data.targets == anomoly_label\n",
        "train_data_normal = torchdata.Subset(\n",
        "    raw_training_data,\n",
        "    (~anomolous_train).nonzero().reshape(-1))\n",
        "\n",
        "train_data_anomolous = torchdata.Subset(\n",
        "    raw_training_data,\n",
        "    anomolous_train.nonzero().reshape(-1))\n",
        "\n",
        "anomolous_test = raw_test_data.targets == anomoly_label\n",
        "test_data_normal = torchdata.Subset(\n",
        "    raw_test_data,\n",
        "    (~anomolous_test).nonzero().reshape(-1))\n",
        "\n",
        "test_data_anomolous = torchdata.Subset(\n",
        "    raw_test_data,\n",
        "    anomolous_test.nonzero().reshape(-1))"
      ],
      "metadata": {
        "id": "GB7Kr7P-aUNl"
      },
      "execution_count": 4,
      "outputs": []
    },
    {
      "cell_type": "code",
      "source": [
        "show_data_sample(train_data_anomolous)"
      ],
      "metadata": {
        "id": "bQW6YoPjbVJ4",
        "colab": {
          "base_uri": "https://localhost:8080/",
          "height": 482
        },
        "outputId": "4bd0c126-d959-490e-e909-7df690d46ff0"
      },
      "execution_count": 5,
      "outputs": [
        {
          "output_type": "display_data",
          "data": {
            "text/plain": [
              "<Figure size 576x576 with 9 Axes>"
            ],
            "image/png": "[encoded data removed]"
          },
          "metadata": {
            "needs_background": "light"
          }
        }
      ]
    },
    {
      "cell_type": "code",
      "source": [
        "class FCModel(torch.nn.Module):\n",
        "\n",
        "  input_size = 28*28\n",
        "\n",
        "  def __init__(self):\n",
        "    super(FCModel, self).__init__()\n",
        "\n",
        "    self.epochs = 0\n",
        "    self.training_log = []\n",
        "\n",
        "    self.flatten = torch.nn.Flatten()\n",
        "    self.layer1 = torch.nn.Linear(self.input_size, 20)\n",
        "    self.layer2 = torch.nn.Linear(20, num_normal_classes)\n",
        "\n",
        "  def hidden(self, x):\n",
        "    x = self.flatten(x)\n",
        "    h = self.layer1(x)\n",
        "    h = tf.relu(h)\n",
        "    return h\n",
        "\n",
        "  def _forward(self, x):\n",
        "    h = self.hidden(x)\n",
        "    out = self.layer2(h)\n",
        "    return h, out\n",
        "\n",
        "  def forward(self, x):\n",
        "    return self._forward(x)[1]\n",
        "\n",
        "model = FCModel().to(device)\n",
        "print(model)"
      ],
      "metadata": {
        "id": "4jIznhgNdZsb",
        "colab": {
          "base_uri": "https://localhost:8080/"
        },
        "outputId": "005ae37a-04e0-449e-f4cf-849898daf90a"
      },
      "execution_count": 6,
      "outputs": [
        {
          "output_type": "stream",
          "name": "stdout",
          "text": [
            "FCModel(\n",
            "  (flatten): Flatten(start_dim=1, end_dim=-1)\n",
            "  (layer1): Linear(in_features=784, out_features=20, bias=True)\n",
            "  (layer2): Linear(in_features=20, out_features=9, bias=True)\n",
            ")\n"
          ]
        }
      ]
    },
    {
      "cell_type": "code",
      "source": [
        "def CompactnessLoss(hidden_batch):\n",
        "  \"\"\"Compactness loss, as defined in PANDA.\n",
        "\n",
        "  $$L_compactness = \\sum_{x \\in D_{train} \\|\\phi(x) - c\\|^2}$$\n",
        "\n",
        "  Where c is the mean \\phi(x) over the dataset.\n",
        "\n",
        "  We approximate that with the batch.\n",
        "  \"\"\"\n",
        "  batch_mean = torch.mean(hidden_batch, dim=0)\n",
        "  return torch.linalg.norm(hidden_batch - batch_mean) ** 2"
      ],
      "metadata": {
        "id": "Wv1TapZfHqYE"
      },
      "execution_count": 7,
      "outputs": []
    },
    {
      "cell_type": "code",
      "source": [
        "learning_rate = 0.5e-2\n",
        "batch_size = 128\n",
        "\n",
        "loss_function = torch.nn.CrossEntropyLoss()\n",
        "optimizer = torch.optim.SGD(model.parameters(), lr=learning_rate)\n",
        "\n",
        "train_dataloader_normal = torchdata.DataLoader(train_data_normal, batch_size=64, shuffle=True)\n",
        "test_dataloader_normal = torchdata.DataLoader(test_data_normal, batch_size=64, shuffle=True)\n",
        "\n",
        "def train_loop(data_loader, model, loss_function, optimizer):\n",
        "    loss_log = []\n",
        "    size = len(data_loader.dataset)\n",
        "    for batch, (X, y) in enumerate(data_loader):\n",
        "        X = X.to(device)\n",
        "        y = y.to(device)\n",
        "        # Compute prediction and loss\n",
        "        h, pred = model._forward(X)\n",
        "        compactness_loss = CompactnessLoss(h)\n",
        "        prediction_loss = loss_function(pred, y)\n",
        "\n",
        "        loss = compactness_loss\n",
        "\n",
        "        # Backpropagation\n",
        "        optimizer.zero_grad()\n",
        "        loss.backward()\n",
        "        optimizer.step()\n",
        "\n",
        "        loss_log.append(loss.item())\n",
        "\n",
        "        if batch % 100 == 0:\n",
        "            loss, current = loss.item(), batch * len(X)\n",
        "            print(f\"loss: {loss:>7f}  [{current:>5d}/{size:>5d}]\")\n",
        "    return {\"loss\": loss_log}\n",
        "\n",
        "def test_loop(data_loader, model, loss_function, run_type):\n",
        "  size = len(data_loader.dataset)\n",
        "  num_batches = len(data_loader)\n",
        "  test_loss, correct = 0, 0\n",
        "\n",
        "  with torch.no_grad():\n",
        "      for X, y in data_loader:\n",
        "          X = X.to(device)\n",
        "          y = y.to(device)\n",
        "          h, pred = model._forward(X)\n",
        "\n",
        "          compactness_loss = CompactnessLoss(h)\n",
        "          prediction_loss = loss_function(pred, y)\n",
        "          loss = compactness_loss\n",
        "          test_loss += loss.item()\n",
        "          correct += (pred.argmax(1) == y).type(torch.float).sum().item()\n",
        "\n",
        "  test_loss /= num_batches\n",
        "  correct /= size\n",
        "  print(f\"{run_type} Error: \\n Accuracy: {(100*correct):>0.1f}%, Avg loss: {test_loss:>8f} \\n\")\n",
        "  return {\"loss\": test_loss, \"accuracy\" : correct}"
      ],
      "metadata": {
        "id": "ghBOxqkVf8Yv"
      },
      "execution_count": 8,
      "outputs": []
    },
    {
      "cell_type": "code",
      "source": [
        "epochs = 2\n",
        "for t in range(epochs):\n",
        "    print(f\"Epoch {model.epochs + 1}\\n-------------------------------\")\n",
        "    train_loop(train_dataloader_normal, model, loss_function, optimizer)\n",
        "    train_log = test_loop(train_dataloader_normal, model, loss_function, \"Train\")\n",
        "    test_log = test_loop(test_dataloader_normal, model, loss_function, \"Test\")\n",
        "\n",
        "    # Record metrics for the current epoch\n",
        "    model.epochs += 1\n",
        "    model.training_log.append((train_log, test_log))\n",
        "\n",
        "    if (model.epochs + 1) % 5 == 0:\n",
        "      print(f\"Saving model at epoch {model.epochs+1}\")\n",
        "      PATH = f\"model_epoch_{model.epochs+1}.pt\"\n",
        "      torch.save({\n",
        "            'epoch': model.epochs,\n",
        "            'model_state_dict': model.state_dict(),\n",
        "            'optimizer_state_dict': optimizer.state_dict(),\n",
        "            }, PATH)\n",
        "print(\"Done!\")"
      ],
      "metadata": {
        "colab": {
          "base_uri": "https://localhost:8080/"
        },
        "id": "98Gjp_Ieh8HY",
        "outputId": "30f245b3-9135-4c41-a008-9a8341f55a36"
      },
      "execution_count": 9,
      "outputs": [
        {
          "output_type": "stream",
          "name": "stdout",
          "text": [
            "Epoch 1\n",
            "-------------------------------\n",
            "loss: 17.829590  [    0/54000]\n",
            "loss: 0.000000  [ 6400/54000]\n",
            "loss: 0.000000  [12800/54000]\n",
            "loss: 0.000074  [19200/54000]\n",
            "loss: 0.000013  [25600/54000]\n",
            "loss: 0.001399  [32000/54000]\n",
            "loss: 0.000000  [38400/54000]\n",
            "loss: 0.000020  [44800/54000]\n",
            "loss: 0.000000  [51200/54000]\n",
            "Train Error: \n",
            " Accuracy: 11.1%, Avg loss: 0.000028 \n",
            "\n",
            "Test Error: \n",
            " Accuracy: 11.1%, Avg loss: 0.000078 \n",
            "\n",
            "Epoch 2\n",
            "-------------------------------\n",
            "loss: 0.000000  [    0/54000]\n",
            "loss: 0.000000  [ 6400/54000]\n",
            "loss: 0.000000  [12800/54000]\n",
            "loss: 0.000000  [19200/54000]\n",
            "loss: 0.000000  [25600/54000]\n",
            "loss: 0.000000  [32000/54000]\n",
            "loss: 0.000000  [38400/54000]\n",
            "loss: 0.000000  [44800/54000]\n",
            "loss: 0.000000  [51200/54000]\n",
            "Train Error: \n",
            " Accuracy: 11.1%, Avg loss: 0.000012 \n",
            "\n",
            "Test Error: \n",
            " Accuracy: 11.1%, Avg loss: 0.000048 \n",
            "\n",
            "Done!\n"
          ]
        }
      ]
    },
    {
      "cell_type": "code",
      "source": [
        "test_batch = next(iter(test_dataloader_normal))[0]\n",
        "test_hiddens = model._forward(test_batch)[0]"
      ],
      "metadata": {
        "id": "eHP9Bw10MWgk"
      },
      "execution_count": 10,
      "outputs": []
    },
    {
      "cell_type": "code",
      "source": [
        "test_hiddens"
      ],
      "metadata": {
        "colab": {
          "base_uri": "https://localhost:8080/"
        },
        "id": "Qn-_ay7EMi0B",
        "outputId": "b1fe6f15-5cd2-4879-c19c-c861e42a86f0"
      },
      "execution_count": 11,
      "outputs": [
        {
          "output_type": "execute_result",
          "data": {
            "text/plain": [
              "tensor([[0., 0., 0.,  ..., 0., 0., 0.],\n",
              "        [0., 0., 0.,  ..., 0., 0., 0.],\n",
              "        [0., 0., 0.,  ..., 0., 0., 0.],\n",
              "        ...,\n",
              "        [0., 0., 0.,  ..., 0., 0., 0.],\n",
              "        [0., 0., 0.,  ..., 0., 0., 0.],\n",
              "        [0., 0., 0.,  ..., 0., 0., 0.]], grad_fn=<ReluBackward0>)"
            ]
          },
          "metadata": {},
          "execution_count": 11
        }
      ]
    },
    {
      "cell_type": "code",
      "source": [
        "epoch = range(len(model.training_log))\n",
        "train_loss = [np.mean(x[0][\"loss\"]) for x in model.training_log]\n",
        "train_accuracy = [x[0][\"accuracy\"] for x in model.training_log]\n",
        "test_loss = [x[1][\"loss\"] for x in model.training_log]\n",
        "test_accuracy = [x[1][\"accuracy\"] for x in model.training_log]\n",
        "\n",
        "plt.plot(epoch, train_loss, label = \"Train Loss\")\n",
        "plt.plot(epoch, train_accuracy, label=\"Train Accuracy\")\n",
        "plt.plot(epoch, test_loss, label = \"Test Loss\")\n",
        "plt.plot(epoch, test_accuracy, label=\"Test Accuracy\")\n",
        "plt.legend()"
      ],
      "metadata": {
        "colab": {
          "base_uri": "https://localhost:8080/",
          "height": 282
        },
        "id": "z1jR5H7tl_oB",
        "outputId": "f61676b7-f1a2-4465-8b36-9caa44569bcf"
      },
      "execution_count": 12,
      "outputs": [
        {
          "output_type": "execute_result",
          "data": {
            "text/plain": [
              "<matplotlib.legend.Legend at 0x7f2f12186130>"
            ]
          },
          "metadata": {},
          "execution_count": 12
        },
        {
          "output_type": "display_data",
          "data": {
            "text/plain": [
              "<Figure size 432x288 with 1 Axes>"
            ],
            "image/png": "[encoded data removed]"
          },
          "metadata": {
            "needs_background": "light"
          }
        }
      ]
    }
  ]
}